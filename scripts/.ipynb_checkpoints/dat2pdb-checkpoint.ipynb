{
 "cells": [
  {
   "cell_type": "code",
   "execution_count": 9,
   "metadata": {},
   "outputs": [],
   "source": [
    "import numpy as np\n",
    "import sys\n",
    "import math\n",
    "from lammps import lammps, PyLammps\n",
    "\n",
    "name={}\n",
    "name[28]=\"Si\"\n",
    "name[9]=\"F\"\n",
    "#name[18]=\"Ar\"\n",
    "#name[17]=\"Cl\"\n"
   ]
  },
  {
   "cell_type": "code",
   "execution_count": 10,
   "metadata": {},
   "outputs": [
    {
     "name": "stdout",
     "output_type": "stream",
     "text": [
      "Si\n"
     ]
    }
   ],
   "source": [
    "datfile='/home/dhumbird/md/run/_0620/test_000001.dat' #str(args[1])\n",
    "pdbfile = datfile.replace('dat','pdb')\n",
    "lmp = lammps()\n",
    "lmp.commands_list([\"units metal\",\"atom_style atomic\",\"atom_modify map array\",\"read_data \"+datfile])\n",
    "x = lmp.extract_atom(\"x\",3) \n",
    "types = lmp.extract_atom(\"type\",0) \n",
    "ids = lmp.extract_atom(\"id\",0) \n",
    "mass = lmp.extract_atom(\"mass\",2) \n",
    "\n",
    "N=lmp.get_natoms()\n",
    "\n",
    "#print(name[round(mass[1])])\n",
    "\n",
    "with open(pdbfile,'w') as f:\n",
    "    f.write(\"HEADER  PROTEIN\\n\")\n",
    "    f.write(\"COMPND  \"+pdbfile+\"\\n\")\n",
    "    f.write(\"AUTHOR  JOE MAMMA\\n\")\n",
    "    for i in range(0,N):\n",
    "        #record name (string 6)\n",
    "        f.write(\"ATOM  \")\n",
    "        #serial number (integer 5)\n",
    "        f.write(\"{0:5d}\".format(i))\n",
    "        #skip column 12\n",
    "        f.write(\" \")\n",
    "        #atom name (string 4)\n",
    "        f.write('{0:>4} '.format(name[round(mass[i])]))\n",
    "        #residue name (string 3)\n",
    "        f.write(\"UNK\")\n",
    "        #skip column 21\n",
    "        f.write(\" \")\n",
    "        #chain identifier (char)\n",
    "        f.write(\" \")\n",
    "        #residue sequence number (integer 4)\n",
    "        f.write(\"{0:4d}\".format(ids[i]))\n",
    "        #code for insertion of residues (char)\n",
    "        f.write(\" \")\n",
    "        #skip columns 28-30\n",
    "        f.write(\"   \")\n",
    "        #x,y,z position (angstroms) (8.3, 8.3, 8.3)\n",
    "#        f.write ('{0:8.3f}{1:8.3f}{2:8.3f}'.format(L.atoms[i].position[0],L.atoms[i].position[1],L.atoms[i].position[2]))\n",
    "        #occupancy factor (6.2) -- previously used for color defs\n",
    "#        f.write('{0:6.2f}'.format(1.0))\n",
    "        #end of record\n",
    "#        ek=(L.atoms[i].velocity[0]**2+L.atoms[i].velocity[1]**2+L.atoms[i].velocity[2]**2)*L.atoms[i].mass/2.0/9648.531\n",
    "        #temperature factor (6.2)\n",
    "#        f.write('{0:6.2f}'.format(ek))\n",
    "#        f.write('\\n')\n",
    "        \n",
    "lmp.close()"
   ]
  },
  {
   "cell_type": "code",
   "execution_count": null,
   "metadata": {},
   "outputs": [],
   "source": [
    "\n"
   ]
  },
  {
   "cell_type": "code",
   "execution_count": 8,
   "metadata": {},
   "outputs": [
    {
     "name": "stdout",
     "output_type": "stream",
     "text": [
      "LAMMPS output is captured by PyLammps wrapper\n"
     ]
    }
   ],
   "source": [
    "datfile='/home/dhumbird/md/run/_0620/test_000001.dat' #str(args[1])\n",
    "pdbfile = datfile.replace('dat','pdb')\n",
    "lmp = lammps()\n",
    "L = PyLammps(ptr=lmp)\n",
    "lmp.commands_list([\"units metal\",\"atom_style atomic\",\"atom_modify map array\",\"read_data \"+datfile])\n",
    "N=L.system.natoms\n",
    "\n",
    "with open(pdbfile,'w') as f:\n",
    "    f.write(\"HEADER  PROTEIN\\n\")\n",
    "    f.write(\"COMPND  \"+pdbfile+\"\\n\")\n",
    "    f.write(\"AUTHOR  JOE MAMMA\\n\")\n",
    "    for i in range(0,N):\n",
    "        #record name (string 6)\n",
    "        f.write(\"ATOM  \")\n",
    "        #serial number (integer 5)\n",
    "        f.write(\"{0:5d}\".format(i))\n",
    "        #skip column 12\n",
    "        f.write(\" \")\n",
    "        #atom name (string 4)\n",
    "        f.write('{0:>4} '.format(name[L.atoms[i].type]))\n",
    "        #residue name (string 3)\n",
    "        f.write(\"UNK\")\n",
    "        #skip column 21\n",
    "        f.write(\" \")\n",
    "        #chain identifier (char)\n",
    "        f.write(\" \")\n",
    "        #residue sequence number (integer 4)\n",
    "        f.write(\"{0:4d}\".format(L.atoms[i].id))\n",
    "        #code for insertion of residues (char)\n",
    "        f.write(\" \")\n",
    "        #skip columns 28-30\n",
    "        f.write(\"   \")\n",
    "        #x,y,z position (angstroms) (8.3, 8.3, 8.3)\n",
    "        f.write ('{0:8.3f}{1:8.3f}{2:8.3f}'.format(L.atoms[i].position[0],L.atoms[i].position[1],L.atoms[i].position[2]))\n",
    "        #occupancy factor (6.2) -- previously used for color defs\n",
    "        f.write('{0:6.2f}'.format(1.0))\n",
    "        #end of record\n",
    "        ek=(L.atoms[i].velocity[0]**2+L.atoms[i].velocity[1]**2+L.atoms[i].velocity[2]**2)*L.atoms[i].mass/2.0/9648.531\n",
    "        #temperature factor (6.2)\n",
    "        f.write('{0:6.2f}'.format(ek))\n",
    "        f.write('\\n')\n",
    "        \n",
    "lmp.close()"
   ]
  },
  {
   "cell_type": "code",
   "execution_count": 5,
   "metadata": {},
   "outputs": [
    {
     "name": "stdout",
     "output_type": "stream",
     "text": [
      "  Si\n"
     ]
    }
   ],
   "source": [
    "s=\"Si\"\n",
    "print('{0:>4}'.format(s))\n"
   ]
  },
  {
   "cell_type": "code",
   "execution_count": null,
   "metadata": {},
   "outputs": [],
   "source": []
  }
 ],
 "metadata": {
  "kernelspec": {
   "display_name": "Python 3",
   "language": "python",
   "name": "python3"
  },
  "language_info": {
   "codemirror_mode": {
    "name": "ipython",
    "version": 3
   },
   "file_extension": ".py",
   "mimetype": "text/x-python",
   "name": "python",
   "nbconvert_exporter": "python",
   "pygments_lexer": "ipython3",
   "version": "3.6.6"
  }
 },
 "nbformat": 4,
 "nbformat_minor": 2
}
